{
  "nbformat": 4,
  "nbformat_minor": 0,
  "metadata": {
    "colab": {
      "name": "Temperature Forecasting.ipynb",
      "provenance": [],
      "collapsed_sections": []
    },
    "kernelspec": {
      "name": "python3",
      "display_name": "Python 3"
    },
    "language_info": {
      "name": "python"
    }
  },
  "cells": [
    {
      "cell_type": "markdown",
      "source": [
        "TEMPERATURE PREDICTION USING ARIMA"
      ],
      "metadata": {
        "id": "FKAOE8CiOxUd"
      }
    },
    {
      "cell_type": "code",
      "execution_count": 1,
      "metadata": {
        "id": "FoNAJ9t3pJSh"
      },
      "outputs": [],
      "source": [
        "import pandas as pd\n",
        "import numpy as np"
      ]
    },
    {
      "cell_type": "code",
      "source": [
        "df=pd.read_csv('/content/dataexport_20220728T153013.csv')"
      ],
      "metadata": {
        "id": "ZWbUZ1daqupO"
      },
      "execution_count": 2,
      "outputs": []
    },
    {
      "cell_type": "code",
      "source": [
        "df.head(10)"
      ],
      "metadata": {
        "colab": {
          "base_uri": "https://localhost:8080/",
          "height": 363
        },
        "id": "kCkZXg3zrk7Y",
        "outputId": "6b671559-ece2-4959-d75f-e71ebdc3ec38"
      },
      "execution_count": 3,
      "outputs": [
        {
          "output_type": "execute_result",
          "data": {
            "text/plain": [
              "        location                                        Basel\n",
              "0            lat                                     47.54694\n",
              "1            lon                                      7.56892\n",
              "2            asl                                      283.697\n",
              "3       variable                                  Temperature\n",
              "4           unit                                           °F\n",
              "5          level                      2 m elevation corrected\n",
              "6     resolution                                       hourly\n",
              "7    aggregation                                         None\n",
              "8      timestamp  Basel Temperature [2 m elevation corrected]\n",
              "9  20220101T0000                                     49.47895"
            ],
            "text/html": [
              "\n",
              "  <div id=\"df-246b8423-8dad-48b9-9d42-c4f5f04980f7\">\n",
              "    <div class=\"colab-df-container\">\n",
              "      <div>\n",
              "<style scoped>\n",
              "    .dataframe tbody tr th:only-of-type {\n",
              "        vertical-align: middle;\n",
              "    }\n",
              "\n",
              "    .dataframe tbody tr th {\n",
              "        vertical-align: top;\n",
              "    }\n",
              "\n",
              "    .dataframe thead th {\n",
              "        text-align: right;\n",
              "    }\n",
              "</style>\n",
              "<table border=\"1\" class=\"dataframe\">\n",
              "  <thead>\n",
              "    <tr style=\"text-align: right;\">\n",
              "      <th></th>\n",
              "      <th>location</th>\n",
              "      <th>Basel</th>\n",
              "    </tr>\n",
              "  </thead>\n",
              "  <tbody>\n",
              "    <tr>\n",
              "      <th>0</th>\n",
              "      <td>lat</td>\n",
              "      <td>47.54694</td>\n",
              "    </tr>\n",
              "    <tr>\n",
              "      <th>1</th>\n",
              "      <td>lon</td>\n",
              "      <td>7.56892</td>\n",
              "    </tr>\n",
              "    <tr>\n",
              "      <th>2</th>\n",
              "      <td>asl</td>\n",
              "      <td>283.697</td>\n",
              "    </tr>\n",
              "    <tr>\n",
              "      <th>3</th>\n",
              "      <td>variable</td>\n",
              "      <td>Temperature</td>\n",
              "    </tr>\n",
              "    <tr>\n",
              "      <th>4</th>\n",
              "      <td>unit</td>\n",
              "      <td>°F</td>\n",
              "    </tr>\n",
              "    <tr>\n",
              "      <th>5</th>\n",
              "      <td>level</td>\n",
              "      <td>2 m elevation corrected</td>\n",
              "    </tr>\n",
              "    <tr>\n",
              "      <th>6</th>\n",
              "      <td>resolution</td>\n",
              "      <td>hourly</td>\n",
              "    </tr>\n",
              "    <tr>\n",
              "      <th>7</th>\n",
              "      <td>aggregation</td>\n",
              "      <td>None</td>\n",
              "    </tr>\n",
              "    <tr>\n",
              "      <th>8</th>\n",
              "      <td>timestamp</td>\n",
              "      <td>Basel Temperature [2 m elevation corrected]</td>\n",
              "    </tr>\n",
              "    <tr>\n",
              "      <th>9</th>\n",
              "      <td>20220101T0000</td>\n",
              "      <td>49.47895</td>\n",
              "    </tr>\n",
              "  </tbody>\n",
              "</table>\n",
              "</div>\n",
              "      <button class=\"colab-df-convert\" onclick=\"convertToInteractive('df-246b8423-8dad-48b9-9d42-c4f5f04980f7')\"\n",
              "              title=\"Convert this dataframe to an interactive table.\"\n",
              "              style=\"display:none;\">\n",
              "        \n",
              "  <svg xmlns=\"http://www.w3.org/2000/svg\" height=\"24px\"viewBox=\"0 0 24 24\"\n",
              "       width=\"24px\">\n",
              "    <path d=\"M0 0h24v24H0V0z\" fill=\"none\"/>\n",
              "    <path d=\"M18.56 5.44l.94 2.06.94-2.06 2.06-.94-2.06-.94-.94-2.06-.94 2.06-2.06.94zm-11 1L8.5 8.5l.94-2.06 2.06-.94-2.06-.94L8.5 2.5l-.94 2.06-2.06.94zm10 10l.94 2.06.94-2.06 2.06-.94-2.06-.94-.94-2.06-.94 2.06-2.06.94z\"/><path d=\"M17.41 7.96l-1.37-1.37c-.4-.4-.92-.59-1.43-.59-.52 0-1.04.2-1.43.59L10.3 9.45l-7.72 7.72c-.78.78-.78 2.05 0 2.83L4 21.41c.39.39.9.59 1.41.59.51 0 1.02-.2 1.41-.59l7.78-7.78 2.81-2.81c.8-.78.8-2.07 0-2.86zM5.41 20L4 18.59l7.72-7.72 1.47 1.35L5.41 20z\"/>\n",
              "  </svg>\n",
              "      </button>\n",
              "      \n",
              "  <style>\n",
              "    .colab-df-container {\n",
              "      display:flex;\n",
              "      flex-wrap:wrap;\n",
              "      gap: 12px;\n",
              "    }\n",
              "\n",
              "    .colab-df-convert {\n",
              "      background-color: #E8F0FE;\n",
              "      border: none;\n",
              "      border-radius: 50%;\n",
              "      cursor: pointer;\n",
              "      display: none;\n",
              "      fill: #1967D2;\n",
              "      height: 32px;\n",
              "      padding: 0 0 0 0;\n",
              "      width: 32px;\n",
              "    }\n",
              "\n",
              "    .colab-df-convert:hover {\n",
              "      background-color: #E2EBFA;\n",
              "      box-shadow: 0px 1px 2px rgba(60, 64, 67, 0.3), 0px 1px 3px 1px rgba(60, 64, 67, 0.15);\n",
              "      fill: #174EA6;\n",
              "    }\n",
              "\n",
              "    [theme=dark] .colab-df-convert {\n",
              "      background-color: #3B4455;\n",
              "      fill: #D2E3FC;\n",
              "    }\n",
              "\n",
              "    [theme=dark] .colab-df-convert:hover {\n",
              "      background-color: #434B5C;\n",
              "      box-shadow: 0px 1px 3px 1px rgba(0, 0, 0, 0.15);\n",
              "      filter: drop-shadow(0px 1px 2px rgba(0, 0, 0, 0.3));\n",
              "      fill: #FFFFFF;\n",
              "    }\n",
              "  </style>\n",
              "\n",
              "      <script>\n",
              "        const buttonEl =\n",
              "          document.querySelector('#df-246b8423-8dad-48b9-9d42-c4f5f04980f7 button.colab-df-convert');\n",
              "        buttonEl.style.display =\n",
              "          google.colab.kernel.accessAllowed ? 'block' : 'none';\n",
              "\n",
              "        async function convertToInteractive(key) {\n",
              "          const element = document.querySelector('#df-246b8423-8dad-48b9-9d42-c4f5f04980f7');\n",
              "          const dataTable =\n",
              "            await google.colab.kernel.invokeFunction('convertToInteractive',\n",
              "                                                     [key], {});\n",
              "          if (!dataTable) return;\n",
              "\n",
              "          const docLinkHtml = 'Like what you see? Visit the ' +\n",
              "            '<a target=\"_blank\" href=https://colab.research.google.com/notebooks/data_table.ipynb>data table notebook</a>'\n",
              "            + ' to learn more about interactive tables.';\n",
              "          element.innerHTML = '';\n",
              "          dataTable['output_type'] = 'display_data';\n",
              "          await google.colab.output.renderOutput(dataTable, element);\n",
              "          const docLink = document.createElement('div');\n",
              "          docLink.innerHTML = docLinkHtml;\n",
              "          element.appendChild(docLink);\n",
              "        }\n",
              "      </script>\n",
              "    </div>\n",
              "  </div>\n",
              "  "
            ]
          },
          "metadata": {},
          "execution_count": 3
        }
      ]
    },
    {
      "cell_type": "code",
      "source": [
        "newdf=df.drop(df.index[[0,1,2,3,4,5,6,7,8]])"
      ],
      "metadata": {
        "id": "2ffun2VqsiQu"
      },
      "execution_count": 4,
      "outputs": []
    },
    {
      "cell_type": "code",
      "source": [
        "newdf.columns=['Timestamp','Hourly temp']"
      ],
      "metadata": {
        "id": "eVti-Qu3tQSH"
      },
      "execution_count": 5,
      "outputs": []
    },
    {
      "cell_type": "code",
      "source": [
        "newdf=newdf.reset_index()"
      ],
      "metadata": {
        "id": "p0lfsBxEuVSO"
      },
      "execution_count": 6,
      "outputs": []
    },
    {
      "cell_type": "code",
      "source": [
        "newdf.drop('index',inplace=True,axis=1)"
      ],
      "metadata": {
        "id": "Fr3oNsORtRWM"
      },
      "execution_count": 7,
      "outputs": []
    },
    {
      "cell_type": "code",
      "source": [
        "newdf.head()"
      ],
      "metadata": {
        "colab": {
          "base_uri": "https://localhost:8080/",
          "height": 206
        },
        "id": "_Y3-lng5t8-w",
        "outputId": "e0e956fc-4f09-449b-b8eb-c246a40590c3"
      },
      "execution_count": 8,
      "outputs": [
        {
          "output_type": "execute_result",
          "data": {
            "text/plain": [
              "       Timestamp Hourly temp\n",
              "0  20220101T0000    49.47895\n",
              "1  20220101T0100   48.542953\n",
              "2  20220101T0200   48.308952\n",
              "3  20220101T0300    48.02095\n",
              "4  20220101T0400   47.732952"
            ],
            "text/html": [
              "\n",
              "  <div id=\"df-d4b8bb9f-5021-4eae-9548-18249f9b6361\">\n",
              "    <div class=\"colab-df-container\">\n",
              "      <div>\n",
              "<style scoped>\n",
              "    .dataframe tbody tr th:only-of-type {\n",
              "        vertical-align: middle;\n",
              "    }\n",
              "\n",
              "    .dataframe tbody tr th {\n",
              "        vertical-align: top;\n",
              "    }\n",
              "\n",
              "    .dataframe thead th {\n",
              "        text-align: right;\n",
              "    }\n",
              "</style>\n",
              "<table border=\"1\" class=\"dataframe\">\n",
              "  <thead>\n",
              "    <tr style=\"text-align: right;\">\n",
              "      <th></th>\n",
              "      <th>Timestamp</th>\n",
              "      <th>Hourly temp</th>\n",
              "    </tr>\n",
              "  </thead>\n",
              "  <tbody>\n",
              "    <tr>\n",
              "      <th>0</th>\n",
              "      <td>20220101T0000</td>\n",
              "      <td>49.47895</td>\n",
              "    </tr>\n",
              "    <tr>\n",
              "      <th>1</th>\n",
              "      <td>20220101T0100</td>\n",
              "      <td>48.542953</td>\n",
              "    </tr>\n",
              "    <tr>\n",
              "      <th>2</th>\n",
              "      <td>20220101T0200</td>\n",
              "      <td>48.308952</td>\n",
              "    </tr>\n",
              "    <tr>\n",
              "      <th>3</th>\n",
              "      <td>20220101T0300</td>\n",
              "      <td>48.02095</td>\n",
              "    </tr>\n",
              "    <tr>\n",
              "      <th>4</th>\n",
              "      <td>20220101T0400</td>\n",
              "      <td>47.732952</td>\n",
              "    </tr>\n",
              "  </tbody>\n",
              "</table>\n",
              "</div>\n",
              "      <button class=\"colab-df-convert\" onclick=\"convertToInteractive('df-d4b8bb9f-5021-4eae-9548-18249f9b6361')\"\n",
              "              title=\"Convert this dataframe to an interactive table.\"\n",
              "              style=\"display:none;\">\n",
              "        \n",
              "  <svg xmlns=\"http://www.w3.org/2000/svg\" height=\"24px\"viewBox=\"0 0 24 24\"\n",
              "       width=\"24px\">\n",
              "    <path d=\"M0 0h24v24H0V0z\" fill=\"none\"/>\n",
              "    <path d=\"M18.56 5.44l.94 2.06.94-2.06 2.06-.94-2.06-.94-.94-2.06-.94 2.06-2.06.94zm-11 1L8.5 8.5l.94-2.06 2.06-.94-2.06-.94L8.5 2.5l-.94 2.06-2.06.94zm10 10l.94 2.06.94-2.06 2.06-.94-2.06-.94-.94-2.06-.94 2.06-2.06.94z\"/><path d=\"M17.41 7.96l-1.37-1.37c-.4-.4-.92-.59-1.43-.59-.52 0-1.04.2-1.43.59L10.3 9.45l-7.72 7.72c-.78.78-.78 2.05 0 2.83L4 21.41c.39.39.9.59 1.41.59.51 0 1.02-.2 1.41-.59l7.78-7.78 2.81-2.81c.8-.78.8-2.07 0-2.86zM5.41 20L4 18.59l7.72-7.72 1.47 1.35L5.41 20z\"/>\n",
              "  </svg>\n",
              "      </button>\n",
              "      \n",
              "  <style>\n",
              "    .colab-df-container {\n",
              "      display:flex;\n",
              "      flex-wrap:wrap;\n",
              "      gap: 12px;\n",
              "    }\n",
              "\n",
              "    .colab-df-convert {\n",
              "      background-color: #E8F0FE;\n",
              "      border: none;\n",
              "      border-radius: 50%;\n",
              "      cursor: pointer;\n",
              "      display: none;\n",
              "      fill: #1967D2;\n",
              "      height: 32px;\n",
              "      padding: 0 0 0 0;\n",
              "      width: 32px;\n",
              "    }\n",
              "\n",
              "    .colab-df-convert:hover {\n",
              "      background-color: #E2EBFA;\n",
              "      box-shadow: 0px 1px 2px rgba(60, 64, 67, 0.3), 0px 1px 3px 1px rgba(60, 64, 67, 0.15);\n",
              "      fill: #174EA6;\n",
              "    }\n",
              "\n",
              "    [theme=dark] .colab-df-convert {\n",
              "      background-color: #3B4455;\n",
              "      fill: #D2E3FC;\n",
              "    }\n",
              "\n",
              "    [theme=dark] .colab-df-convert:hover {\n",
              "      background-color: #434B5C;\n",
              "      box-shadow: 0px 1px 3px 1px rgba(0, 0, 0, 0.15);\n",
              "      filter: drop-shadow(0px 1px 2px rgba(0, 0, 0, 0.3));\n",
              "      fill: #FFFFFF;\n",
              "    }\n",
              "  </style>\n",
              "\n",
              "      <script>\n",
              "        const buttonEl =\n",
              "          document.querySelector('#df-d4b8bb9f-5021-4eae-9548-18249f9b6361 button.colab-df-convert');\n",
              "        buttonEl.style.display =\n",
              "          google.colab.kernel.accessAllowed ? 'block' : 'none';\n",
              "\n",
              "        async function convertToInteractive(key) {\n",
              "          const element = document.querySelector('#df-d4b8bb9f-5021-4eae-9548-18249f9b6361');\n",
              "          const dataTable =\n",
              "            await google.colab.kernel.invokeFunction('convertToInteractive',\n",
              "                                                     [key], {});\n",
              "          if (!dataTable) return;\n",
              "\n",
              "          const docLinkHtml = 'Like what you see? Visit the ' +\n",
              "            '<a target=\"_blank\" href=https://colab.research.google.com/notebooks/data_table.ipynb>data table notebook</a>'\n",
              "            + ' to learn more about interactive tables.';\n",
              "          element.innerHTML = '';\n",
              "          dataTable['output_type'] = 'display_data';\n",
              "          await google.colab.output.renderOutput(dataTable, element);\n",
              "          const docLink = document.createElement('div');\n",
              "          docLink.innerHTML = docLinkHtml;\n",
              "          element.appendChild(docLink);\n",
              "        }\n",
              "      </script>\n",
              "    </div>\n",
              "  </div>\n",
              "  "
            ]
          },
          "metadata": {},
          "execution_count": 8
        }
      ]
    },
    {
      "cell_type": "code",
      "source": [
        "newdf['Timestamp']= pd.to_datetime(newdf['Timestamp'])"
      ],
      "metadata": {
        "id": "Oiul9yDK61-q"
      },
      "execution_count": 9,
      "outputs": []
    },
    {
      "cell_type": "code",
      "source": [
        "newdf['Hourly temp']=newdf['Hourly temp'].astype(float)"
      ],
      "metadata": {
        "id": "rYOV7o5L68VA"
      },
      "execution_count": 10,
      "outputs": []
    },
    {
      "cell_type": "code",
      "source": [
        "mean=np.mean(newdf['Hourly temp'])\n",
        "mean"
      ],
      "metadata": {
        "colab": {
          "base_uri": "https://localhost:8080/"
        },
        "id": "KcDW-O8_7MUP",
        "outputId": "f3365f55-34ee-4995-9be5-f6d876d27b3a"
      },
      "execution_count": 11,
      "outputs": [
        {
          "output_type": "execute_result",
          "data": {
            "text/plain": [
              "53.18604773641805"
            ]
          },
          "metadata": {},
          "execution_count": 11
        }
      ]
    },
    {
      "cell_type": "code",
      "source": [
        "import matplotlib.pyplot as plt\n",
        "plt.boxplot(newdf['Hourly temp'])"
      ],
      "metadata": {
        "colab": {
          "base_uri": "https://localhost:8080/",
          "height": 405
        },
        "id": "reF2J2Fg986a",
        "outputId": "d4deacd1-6aea-4755-ed65-51fb70809435"
      },
      "execution_count": 12,
      "outputs": [
        {
          "output_type": "execute_result",
          "data": {
            "text/plain": [
              "{'boxes': [<matplotlib.lines.Line2D at 0x7fe02f7e0a10>],\n",
              " 'caps': [<matplotlib.lines.Line2D at 0x7fe02f7e9a50>,\n",
              "  <matplotlib.lines.Line2D at 0x7fe02f7e9f90>],\n",
              " 'fliers': [<matplotlib.lines.Line2D at 0x7fe02f7f1a90>],\n",
              " 'means': [],\n",
              " 'medians': [<matplotlib.lines.Line2D at 0x7fe02f7f1550>],\n",
              " 'whiskers': [<matplotlib.lines.Line2D at 0x7fe02f7e0f90>,\n",
              "  <matplotlib.lines.Line2D at 0x7fe02f7e9510>]}"
            ]
          },
          "metadata": {},
          "execution_count": 12
        },
        {
          "output_type": "display_data",
          "data": {
            "text/plain": [
              "<Figure size 432x288 with 1 Axes>"
            ],
            "image/png": "[encoded data removed]"
          },
          "metadata": {
            "needs_background": "light"
          }
        }
      ]
    },
    {
      "cell_type": "code",
      "source": [
        "#Winzorization to reduce the effect of outliers\n",
        "from scipy.stats.mstats import winsorize\n",
        "newdf['Hourly temp']=winsorize(newdf['Hourly temp'], limits=[0.1, 0.2])\n",
        "mean_post=np.mean(newdf['Hourly temp'])\n",
        "plt.boxplot(newdf['Hourly temp'])"
      ],
      "metadata": {
        "colab": {
          "base_uri": "https://localhost:8080/",
          "height": 404
        },
        "id": "E__XNZAe-Q8i",
        "outputId": "f55e6a4b-d7ee-4dcd-c4db-07fceb66fec7"
      },
      "execution_count": 13,
      "outputs": [
        {
          "output_type": "execute_result",
          "data": {
            "text/plain": [
              "{'boxes': [<matplotlib.lines.Line2D at 0x7fe0238c4a10>],\n",
              " 'caps': [<matplotlib.lines.Line2D at 0x7fe0238caad0>,\n",
              "  <matplotlib.lines.Line2D at 0x7fe0238d2050>],\n",
              " 'fliers': [<matplotlib.lines.Line2D at 0x7fe0238d2b10>],\n",
              " 'means': [],\n",
              " 'medians': [<matplotlib.lines.Line2D at 0x7fe0238d25d0>],\n",
              " 'whiskers': [<matplotlib.lines.Line2D at 0x7fe0238ca050>,\n",
              "  <matplotlib.lines.Line2D at 0x7fe0238ca590>]}"
            ]
          },
          "metadata": {},
          "execution_count": 13
        },
        {
          "output_type": "display_data",
          "data": {
            "text/plain": [
              "<Figure size 432x288 with 1 Axes>"
            ],
            "image/png": "[encoded data removed]"
          },
          "metadata": {
            "needs_background": "light"
          }
        }
      ]
    },
    {
      "cell_type": "code",
      "source": [
        "#ADF Test to check id data is stationary or not\n",
        "series=newdf['Hourly temp']\n",
        "from statsmodels.tsa.stattools import adfuller\n",
        "result = adfuller(series)\n",
        "print('ADF Statistic on the entire dataset: {}'.format(result[0]))\n",
        "print('p-value: {}'.format(result[1]))\n",
        "print('Critical Values:')\n",
        "for key, value in result[4].items():\n",
        "    print('\\t{}: {}'.format(key, value))"
      ],
      "metadata": {
        "colab": {
          "base_uri": "https://localhost:8080/"
        },
        "id": "WK-kHXg7uv0i",
        "outputId": "87ae7c8d-047c-4fff-9919-ff3930760954"
      },
      "execution_count": 20,
      "outputs": [
        {
          "output_type": "stream",
          "name": "stdout",
          "text": [
            "ADF Statistic on the entire dataset: -2.4758405517229822\n",
            "p-value: 0.1214637761484581\n",
            "Critical Values:\n",
            "\t1%: -3.4318653292515395\n",
            "\t5%: -2.8622095883960235\n",
            "\t10%: -2.567126426709739\n"
          ]
        }
      ]
    },
    {
      "cell_type": "code",
      "source": [
        "! pip install pmdarima "
      ],
      "metadata": {
        "colab": {
          "base_uri": "https://localhost:8080/"
        },
        "id": "h8lhOqkl4Et4",
        "outputId": "00f8ac39-2fd7-40eb-8a49-66a55887efa2"
      },
      "execution_count": 14,
      "outputs": [
        {
          "output_type": "stream",
          "name": "stdout",
          "text": [
            "Looking in indexes: https://pypi.org/simple, https://us-python.pkg.dev/colab-wheels/public/simple/\n",
            "Requirement already satisfied: pmdarima in /usr/local/lib/python3.7/dist-packages (1.8.5)\n",
            "Requirement already satisfied: joblib>=0.11 in /usr/local/lib/python3.7/dist-packages (from pmdarima) (1.1.0)\n",
            "Requirement already satisfied: Cython!=0.29.18,>=0.29 in /usr/local/lib/python3.7/dist-packages (from pmdarima) (0.29.30)\n",
            "Requirement already satisfied: pandas>=0.19 in /usr/local/lib/python3.7/dist-packages (from pmdarima) (1.3.5)\n",
            "Requirement already satisfied: scikit-learn>=0.22 in /usr/local/lib/python3.7/dist-packages (from pmdarima) (1.0.2)\n",
            "Requirement already satisfied: statsmodels!=0.12.0,>=0.11 in /usr/local/lib/python3.7/dist-packages (from pmdarima) (0.13.2)\n",
            "Requirement already satisfied: numpy>=1.19.3 in /usr/local/lib/python3.7/dist-packages (from pmdarima) (1.21.6)\n",
            "Requirement already satisfied: urllib3 in /usr/local/lib/python3.7/dist-packages (from pmdarima) (1.24.3)\n",
            "Requirement already satisfied: setuptools!=50.0.0,>=38.6.0 in /usr/local/lib/python3.7/dist-packages (from pmdarima) (57.4.0)\n",
            "Requirement already satisfied: scipy>=1.3.2 in /usr/local/lib/python3.7/dist-packages (from pmdarima) (1.7.3)\n",
            "Requirement already satisfied: pytz>=2017.3 in /usr/local/lib/python3.7/dist-packages (from pandas>=0.19->pmdarima) (2022.1)\n",
            "Requirement already satisfied: python-dateutil>=2.7.3 in /usr/local/lib/python3.7/dist-packages (from pandas>=0.19->pmdarima) (2.8.2)\n",
            "Requirement already satisfied: six>=1.5 in /usr/local/lib/python3.7/dist-packages (from python-dateutil>=2.7.3->pandas>=0.19->pmdarima) (1.15.0)\n",
            "Requirement already satisfied: threadpoolctl>=2.0.0 in /usr/local/lib/python3.7/dist-packages (from scikit-learn>=0.22->pmdarima) (3.1.0)\n",
            "Requirement already satisfied: packaging>=21.3 in /usr/local/lib/python3.7/dist-packages (from statsmodels!=0.12.0,>=0.11->pmdarima) (21.3)\n",
            "Requirement already satisfied: patsy>=0.5.2 in /usr/local/lib/python3.7/dist-packages (from statsmodels!=0.12.0,>=0.11->pmdarima) (0.5.2)\n",
            "Requirement already satisfied: pyparsing!=3.0.5,>=2.0.2 in /usr/local/lib/python3.7/dist-packages (from packaging>=21.3->statsmodels!=0.12.0,>=0.11->pmdarima) (3.0.9)\n"
          ]
        }
      ]
    },
    {
      "cell_type": "code",
      "source": [
        "from pmdarima import auto_arima\n",
        "stepwise_fit = auto_arima(newdf['Hourly temp'], trace=True,suppress_warnings=True)"
      ],
      "metadata": {
        "colab": {
          "base_uri": "https://localhost:8080/"
        },
        "id": "83A-ieE24LCB",
        "outputId": "1fcbe6d8-6f74-4fea-86fc-dd8d5e22b163"
      },
      "execution_count": 15,
      "outputs": [
        {
          "output_type": "stream",
          "name": "stdout",
          "text": [
            "Performing stepwise search to minimize aic\n",
            " ARIMA(2,1,2)(0,0,0)[0] intercept   : AIC=13364.216, Time=19.71 sec\n",
            " ARIMA(0,1,0)(0,0,0)[0] intercept   : AIC=16717.780, Time=0.18 sec\n",
            " ARIMA(1,1,0)(0,0,0)[0] intercept   : AIC=13859.335, Time=0.51 sec\n",
            " ARIMA(0,1,1)(0,0,0)[0] intercept   : AIC=14678.018, Time=1.17 sec\n",
            " ARIMA(0,1,0)(0,0,0)[0]             : AIC=16715.787, Time=0.16 sec\n",
            " ARIMA(1,1,2)(0,0,0)[0] intercept   : AIC=13830.510, Time=2.86 sec\n",
            " ARIMA(2,1,1)(0,0,0)[0] intercept   : AIC=13382.748, Time=5.28 sec\n",
            " ARIMA(3,1,2)(0,0,0)[0] intercept   : AIC=13385.670, Time=6.99 sec\n",
            " ARIMA(2,1,3)(0,0,0)[0] intercept   : AIC=13294.542, Time=9.09 sec\n",
            " ARIMA(1,1,3)(0,0,0)[0] intercept   : AIC=13824.745, Time=1.93 sec\n",
            " ARIMA(3,1,3)(0,0,0)[0] intercept   : AIC=13367.783, Time=9.99 sec\n",
            " ARIMA(2,1,4)(0,0,0)[0] intercept   : AIC=13072.468, Time=11.59 sec\n",
            " ARIMA(1,1,4)(0,0,0)[0] intercept   : AIC=13813.179, Time=3.16 sec\n",
            " ARIMA(3,1,4)(0,0,0)[0] intercept   : AIC=13138.594, Time=13.17 sec\n",
            " ARIMA(2,1,5)(0,0,0)[0] intercept   : AIC=13025.968, Time=17.19 sec\n",
            " ARIMA(1,1,5)(0,0,0)[0] intercept   : AIC=13812.707, Time=5.07 sec\n",
            " ARIMA(3,1,5)(0,0,0)[0] intercept   : AIC=inf, Time=17.04 sec\n",
            " ARIMA(2,1,5)(0,0,0)[0]             : AIC=13023.405, Time=7.38 sec\n",
            " ARIMA(1,1,5)(0,0,0)[0]             : AIC=13810.707, Time=1.82 sec\n",
            " ARIMA(2,1,4)(0,0,0)[0]             : AIC=13023.999, Time=4.96 sec\n",
            " ARIMA(3,1,5)(0,0,0)[0]             : AIC=inf, Time=8.80 sec\n",
            " ARIMA(1,1,4)(0,0,0)[0]             : AIC=13811.179, Time=1.34 sec\n",
            " ARIMA(3,1,4)(0,0,0)[0]             : AIC=13133.737, Time=6.31 sec\n",
            "\n",
            "Best model:  ARIMA(2,1,5)(0,0,0)[0]          \n",
            "Total fit time: 155.723 seconds\n"
          ]
        }
      ]
    },
    {
      "cell_type": "code",
      "source": [
        "newdf.info()"
      ],
      "metadata": {
        "colab": {
          "base_uri": "https://localhost:8080/"
        },
        "id": "hCDqjmDG8f6N",
        "outputId": "22339241-c124-4e6e-a14c-fd9a9e123a6c"
      },
      "execution_count": 16,
      "outputs": [
        {
          "output_type": "stream",
          "name": "stdout",
          "text": [
            "<class 'pandas.core.frame.DataFrame'>\n",
            "RangeIndex: 4344 entries, 0 to 4343\n",
            "Data columns (total 2 columns):\n",
            " #   Column       Non-Null Count  Dtype         \n",
            "---  ------       --------------  -----         \n",
            " 0   Timestamp    4344 non-null   datetime64[ns]\n",
            " 1   Hourly temp  4344 non-null   float64       \n",
            "dtypes: datetime64[ns](1), float64(1)\n",
            "memory usage: 68.0 KB\n"
          ]
        }
      ]
    },
    {
      "cell_type": "code",
      "source": [
        "#train test split\n",
        "print(newdf.shape)\n",
        "train=newdf.iloc[0:1448]\n",
        "test=newdf.iloc[1448:2896]\n",
        "print(train.shape,test.shape)"
      ],
      "metadata": {
        "colab": {
          "base_uri": "https://localhost:8080/"
        },
        "id": "iT6T7TPY81bG",
        "outputId": "f32484b1-e20d-4c1e-e3ef-c5afbe0d7f02"
      },
      "execution_count": 17,
      "outputs": [
        {
          "output_type": "stream",
          "name": "stdout",
          "text": [
            "(4344, 2)\n",
            "(1448, 2) (1448, 2)\n"
          ]
        }
      ]
    },
    {
      "cell_type": "code",
      "source": [
        "#fitting data to model\n",
        "from statsmodels.tsa.arima.model import ARIMA\n",
        "model=ARIMA(train['Hourly temp'],order=(2,1,5))\n",
        "model=model.fit()\n",
        "model.summary()"
      ],
      "metadata": {
        "colab": {
          "base_uri": "https://localhost:8080/",
          "height": 537
        },
        "id": "rADY47HL92Wb",
        "outputId": "8728ea9d-c32b-4685-9ef3-4379fc4fcb00"
      },
      "execution_count": 18,
      "outputs": [
        {
          "output_type": "execute_result",
          "data": {
            "text/plain": [
              "<class 'statsmodels.iolib.summary.Summary'>\n",
              "\"\"\"\n",
              "                               SARIMAX Results                                \n",
              "==============================================================================\n",
              "Dep. Variable:            Hourly temp   No. Observations:                 1448\n",
              "Model:                 ARIMA(2, 1, 5)   Log Likelihood               -2187.347\n",
              "Date:                Sun, 31 Jul 2022   AIC                           4390.693\n",
              "Time:                        07:35:36   BIC                           4432.911\n",
              "Sample:                             0   HQIC                          4406.449\n",
              "                               - 1448                                         \n",
              "Covariance Type:                  opg                                         \n",
              "==============================================================================\n",
              "                 coef    std err          z      P>|z|      [0.025      0.975]\n",
              "------------------------------------------------------------------------------\n",
              "ar.L1          1.5472      0.064     24.334      0.000       1.423       1.672\n",
              "ar.L2         -0.6593      0.057    -11.603      0.000      -0.771      -0.548\n",
              "ma.L1         -1.0126      0.067    -15.109      0.000      -1.144      -0.881\n",
              "ma.L2          0.1066      0.036      2.944      0.003       0.036       0.178\n",
              "ma.L3          0.0490      0.037      1.338      0.181      -0.023       0.121\n",
              "ma.L4          0.0165      0.039      0.422      0.673      -0.060       0.093\n",
              "ma.L5         -0.1104      0.039     -2.838      0.005      -0.187      -0.034\n",
              "sigma2         1.2025      0.025     49.066      0.000       1.154       1.251\n",
              "===================================================================================\n",
              "Ljung-Box (L1) (Q):                   0.00   Jarque-Bera (JB):              1784.74\n",
              "Prob(Q):                              0.99   Prob(JB):                         0.00\n",
              "Heteroskedasticity (H):               1.22   Skew:                             0.34\n",
              "Prob(H) (two-sided):                  0.03   Kurtosis:                         8.40\n",
              "===================================================================================\n",
              "\n",
              "Warnings:\n",
              "[1] Covariance matrix calculated using the outer product of gradients (complex-step).\n",
              "\"\"\""
            ],
            "text/html": [
              "<table class=\"simpletable\">\n",
              "<caption>SARIMAX Results</caption>\n",
              "<tr>\n",
              "  <th>Dep. Variable:</th>      <td>Hourly temp</td>   <th>  No. Observations:  </th>   <td>1448</td>   \n",
              "</tr>\n",
              "<tr>\n",
              "  <th>Model:</th>            <td>ARIMA(2, 1, 5)</td>  <th>  Log Likelihood     </th> <td>-2187.347</td>\n",
              "</tr>\n",
              "<tr>\n",
              "  <th>Date:</th>            <td>Sun, 31 Jul 2022</td> <th>  AIC                </th> <td>4390.693</td> \n",
              "</tr>\n",
              "<tr>\n",
              "  <th>Time:</th>                <td>07:35:36</td>     <th>  BIC                </th> <td>4432.911</td> \n",
              "</tr>\n",
              "<tr>\n",
              "  <th>Sample:</th>                  <td>0</td>        <th>  HQIC               </th> <td>4406.449</td> \n",
              "</tr>\n",
              "<tr>\n",
              "  <th></th>                      <td> - 1448</td>     <th>                     </th>     <td> </td>    \n",
              "</tr>\n",
              "<tr>\n",
              "  <th>Covariance Type:</th>        <td>opg</td>       <th>                     </th>     <td> </td>    \n",
              "</tr>\n",
              "</table>\n",
              "<table class=\"simpletable\">\n",
              "<tr>\n",
              "     <td></td>       <th>coef</th>     <th>std err</th>      <th>z</th>      <th>P>|z|</th>  <th>[0.025</th>    <th>0.975]</th>  \n",
              "</tr>\n",
              "<tr>\n",
              "  <th>ar.L1</th>  <td>    1.5472</td> <td>    0.064</td> <td>   24.334</td> <td> 0.000</td> <td>    1.423</td> <td>    1.672</td>\n",
              "</tr>\n",
              "<tr>\n",
              "  <th>ar.L2</th>  <td>   -0.6593</td> <td>    0.057</td> <td>  -11.603</td> <td> 0.000</td> <td>   -0.771</td> <td>   -0.548</td>\n",
              "</tr>\n",
              "<tr>\n",
              "  <th>ma.L1</th>  <td>   -1.0126</td> <td>    0.067</td> <td>  -15.109</td> <td> 0.000</td> <td>   -1.144</td> <td>   -0.881</td>\n",
              "</tr>\n",
              "<tr>\n",
              "  <th>ma.L2</th>  <td>    0.1066</td> <td>    0.036</td> <td>    2.944</td> <td> 0.003</td> <td>    0.036</td> <td>    0.178</td>\n",
              "</tr>\n",
              "<tr>\n",
              "  <th>ma.L3</th>  <td>    0.0490</td> <td>    0.037</td> <td>    1.338</td> <td> 0.181</td> <td>   -0.023</td> <td>    0.121</td>\n",
              "</tr>\n",
              "<tr>\n",
              "  <th>ma.L4</th>  <td>    0.0165</td> <td>    0.039</td> <td>    0.422</td> <td> 0.673</td> <td>   -0.060</td> <td>    0.093</td>\n",
              "</tr>\n",
              "<tr>\n",
              "  <th>ma.L5</th>  <td>   -0.1104</td> <td>    0.039</td> <td>   -2.838</td> <td> 0.005</td> <td>   -0.187</td> <td>   -0.034</td>\n",
              "</tr>\n",
              "<tr>\n",
              "  <th>sigma2</th> <td>    1.2025</td> <td>    0.025</td> <td>   49.066</td> <td> 0.000</td> <td>    1.154</td> <td>    1.251</td>\n",
              "</tr>\n",
              "</table>\n",
              "<table class=\"simpletable\">\n",
              "<tr>\n",
              "  <th>Ljung-Box (L1) (Q):</th>     <td>0.00</td> <th>  Jarque-Bera (JB):  </th> <td>1784.74</td>\n",
              "</tr>\n",
              "<tr>\n",
              "  <th>Prob(Q):</th>                <td>0.99</td> <th>  Prob(JB):          </th>  <td>0.00</td>  \n",
              "</tr>\n",
              "<tr>\n",
              "  <th>Heteroskedasticity (H):</th> <td>1.22</td> <th>  Skew:              </th>  <td>0.34</td>  \n",
              "</tr>\n",
              "<tr>\n",
              "  <th>Prob(H) (two-sided):</th>    <td>0.03</td> <th>  Kurtosis:          </th>  <td>8.40</td>  \n",
              "</tr>\n",
              "</table><br/><br/>Warnings:<br/>[1] Covariance matrix calculated using the outer product of gradients (complex-step)."
            ]
          },
          "metadata": {},
          "execution_count": 18
        }
      ]
    },
    {
      "cell_type": "code",
      "source": [
        "#plotting prediction\n",
        "import matplotlib.pyplot as plt\n",
        "from datetime import datetime\n",
        "start=len(test)\n",
        "end=len(test)+len(train)-1\n",
        "pred=model.predict(start=start, end=end)\n",
        "pred.plot(legend=True)"
      ],
      "metadata": {
        "colab": {
          "base_uri": "https://localhost:8080/",
          "height": 282
        },
        "id": "N2s7Rv1xAyB-",
        "outputId": "3ae915dc-38d1-4908-9975-c990abeb342c"
      },
      "execution_count": 20,
      "outputs": [
        {
          "output_type": "execute_result",
          "data": {
            "text/plain": [
              "<matplotlib.axes._subplots.AxesSubplot at 0x7fe011aeed10>"
            ]
          },
          "metadata": {},
          "execution_count": 20
        },
        {
          "output_type": "display_data",
          "data": {
            "text/plain": [
              "<Figure size 432x288 with 1 Axes>"
            ],
            "image/png": "[encoded data removed]"
          },
          "metadata": {
            "needs_background": "light"
          }
        }
      ]
    },
    {
      "cell_type": "code",
      "source": [
        "from sklearn.metrics import mean_squared_error\n",
        "from math import sqrt\n",
        "print(\"Mean of test set\",test['Hourly temp'].mean())\n",
        "rmse=sqrt(mean_squared_error(pred,test['Hourly temp']))\n",
        "print(\"RMSE:\",rmse)"
      ],
      "metadata": {
        "colab": {
          "base_uri": "https://localhost:8080/"
        },
        "id": "xndgVIVvLZev",
        "outputId": "9e0386be-d6fd-4836-ded9-8dd375f10f19"
      },
      "execution_count": 21,
      "outputs": [
        {
          "output_type": "stream",
          "name": "stdout",
          "text": [
            "Mean of test set 50.580506248618775\n",
            "RMSE: 14.181020489489825\n"
          ]
        }
      ]
    },
    {
      "cell_type": "code",
      "source": [
        "# from datetime import datetime\n",
        "# start_index = datetime(2022, 1 ,1)\n",
        "# end_index = datetime(2022, 6, 30)\n"
      ],
      "metadata": {
        "id": "_TuZOq6Cb3Yz"
      },
      "execution_count": null,
      "outputs": []
    },
    {
      "cell_type": "code",
      "source": [
        ""
      ],
      "metadata": {
        "id": "i9jj5jgjhZoY"
      },
      "execution_count": null,
      "outputs": []
    },
    {
      "cell_type": "code",
      "source": [
        ""
      ],
      "metadata": {
        "id": "7WV5kajtfALZ"
      },
      "execution_count": null,
      "outputs": []
    }
  ]
}
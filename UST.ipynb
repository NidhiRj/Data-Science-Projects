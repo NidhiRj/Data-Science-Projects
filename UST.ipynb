{
  "nbformat": 4,
  "nbformat_minor": 0,
  "metadata": {
    "colab": {
      "name": "UST.ipynb",
      "provenance": [],
      "collapsed_sections": []
    },
    "kernelspec": {
      "name": "python3",
      "display_name": "Python 3"
    },
    "language_info": {
      "name": "python"
    }
  },
  "cells": [
    {
      "cell_type": "markdown",
      "source": [
        "TEMPERATURE PREDICTION USING ARIMA"
      ],
      "metadata": {
        "id": "FKAOE8CiOxUd"
      }
    },
    {
      "cell_type": "code",
      "execution_count": 94,
      "metadata": {
        "id": "FoNAJ9t3pJSh"
      },
      "outputs": [],
      "source": [
        "import pandas as pd\n",
        "import numpy as np"
      ]
    },
    {
      "cell_type": "code",
      "source": [
        "df=pd.read_csv('/content/dataexport_20220728T153013.csv')"
      ],
      "metadata": {
        "id": "ZWbUZ1daqupO"
      },
      "execution_count": 50,
      "outputs": []
    },
    {
      "cell_type": "code",
      "source": [
        "df.head(10)"
      ],
      "metadata": {
        "colab": {
          "base_uri": "https://localhost:8080/",
          "height": 363
        },
        "id": "kCkZXg3zrk7Y",
        "outputId": "d963e2ae-f1b1-488d-f2a3-b87055f077f7"
      },
      "execution_count": 51,
      "outputs": [
        {
          "output_type": "execute_result",
          "data": {
            "text/plain": [
              "        location                                        Basel\n",
              "0            lat                                     47.54694\n",
              "1            lon                                      7.56892\n",
              "2            asl                                      283.697\n",
              "3       variable                                  Temperature\n",
              "4           unit                                           °F\n",
              "5          level                      2 m elevation corrected\n",
              "6     resolution                                       hourly\n",
              "7    aggregation                                         None\n",
              "8      timestamp  Basel Temperature [2 m elevation corrected]\n",
              "9  20220101T0000                                     49.47895"
            ],
            "text/html": [
              "\n",
              "  <div id=\"df-0bcb03c1-8f0b-4f1d-9532-b3bedda5905e\">\n",
              "    <div class=\"colab-df-container\">\n",
              "      <div>\n",
              "<style scoped>\n",
              "    .dataframe tbody tr th:only-of-type {\n",
              "        vertical-align: middle;\n",
              "    }\n",
              "\n",
              "    .dataframe tbody tr th {\n",
              "        vertical-align: top;\n",
              "    }\n",
              "\n",
              "    .dataframe thead th {\n",
              "        text-align: right;\n",
              "    }\n",
              "</style>\n",
              "<table border=\"1\" class=\"dataframe\">\n",
              "  <thead>\n",
              "    <tr style=\"text-align: right;\">\n",
              "      <th></th>\n",
              "      <th>location</th>\n",
              "      <th>Basel</th>\n",
              "    </tr>\n",
              "  </thead>\n",
              "  <tbody>\n",
              "    <tr>\n",
              "      <th>0</th>\n",
              "      <td>lat</td>\n",
              "      <td>47.54694</td>\n",
              "    </tr>\n",
              "    <tr>\n",
              "      <th>1</th>\n",
              "      <td>lon</td>\n",
              "      <td>7.56892</td>\n",
              "    </tr>\n",
              "    <tr>\n",
              "      <th>2</th>\n",
              "      <td>asl</td>\n",
              "      <td>283.697</td>\n",
              "    </tr>\n",
              "    <tr>\n",
              "      <th>3</th>\n",
              "      <td>variable</td>\n",
              "      <td>Temperature</td>\n",
              "    </tr>\n",
              "    <tr>\n",
              "      <th>4</th>\n",
              "      <td>unit</td>\n",
              "      <td>°F</td>\n",
              "    </tr>\n",
              "    <tr>\n",
              "      <th>5</th>\n",
              "      <td>level</td>\n",
              "      <td>2 m elevation corrected</td>\n",
              "    </tr>\n",
              "    <tr>\n",
              "      <th>6</th>\n",
              "      <td>resolution</td>\n",
              "      <td>hourly</td>\n",
              "    </tr>\n",
              "    <tr>\n",
              "      <th>7</th>\n",
              "      <td>aggregation</td>\n",
              "      <td>None</td>\n",
              "    </tr>\n",
              "    <tr>\n",
              "      <th>8</th>\n",
              "      <td>timestamp</td>\n",
              "      <td>Basel Temperature [2 m elevation corrected]</td>\n",
              "    </tr>\n",
              "    <tr>\n",
              "      <th>9</th>\n",
              "      <td>20220101T0000</td>\n",
              "      <td>49.47895</td>\n",
              "    </tr>\n",
              "  </tbody>\n",
              "</table>\n",
              "</div>\n",
              "      <button class=\"colab-df-convert\" onclick=\"convertToInteractive('df-0bcb03c1-8f0b-4f1d-9532-b3bedda5905e')\"\n",
              "              title=\"Convert this dataframe to an interactive table.\"\n",
              "              style=\"display:none;\">\n",
              "        \n",
              "  <svg xmlns=\"http://www.w3.org/2000/svg\" height=\"24px\"viewBox=\"0 0 24 24\"\n",
              "       width=\"24px\">\n",
              "    <path d=\"M0 0h24v24H0V0z\" fill=\"none\"/>\n",
              "    <path d=\"M18.56 5.44l.94 2.06.94-2.06 2.06-.94-2.06-.94-.94-2.06-.94 2.06-2.06.94zm-11 1L8.5 8.5l.94-2.06 2.06-.94-2.06-.94L8.5 2.5l-.94 2.06-2.06.94zm10 10l.94 2.06.94-2.06 2.06-.94-2.06-.94-.94-2.06-.94 2.06-2.06.94z\"/><path d=\"M17.41 7.96l-1.37-1.37c-.4-.4-.92-.59-1.43-.59-.52 0-1.04.2-1.43.59L10.3 9.45l-7.72 7.72c-.78.78-.78 2.05 0 2.83L4 21.41c.39.39.9.59 1.41.59.51 0 1.02-.2 1.41-.59l7.78-7.78 2.81-2.81c.8-.78.8-2.07 0-2.86zM5.41 20L4 18.59l7.72-7.72 1.47 1.35L5.41 20z\"/>\n",
              "  </svg>\n",
              "      </button>\n",
              "      \n",
              "  <style>\n",
              "    .colab-df-container {\n",
              "      display:flex;\n",
              "      flex-wrap:wrap;\n",
              "      gap: 12px;\n",
              "    }\n",
              "\n",
              "    .colab-df-convert {\n",
              "      background-color: #E8F0FE;\n",
              "      border: none;\n",
              "      border-radius: 50%;\n",
              "      cursor: pointer;\n",
              "      display: none;\n",
              "      fill: #1967D2;\n",
              "      height: 32px;\n",
              "      padding: 0 0 0 0;\n",
              "      width: 32px;\n",
              "    }\n",
              "\n",
              "    .colab-df-convert:hover {\n",
              "      background-color: #E2EBFA;\n",
              "      box-shadow: 0px 1px 2px rgba(60, 64, 67, 0.3), 0px 1px 3px 1px rgba(60, 64, 67, 0.15);\n",
              "      fill: #174EA6;\n",
              "    }\n",
              "\n",
              "    [theme=dark] .colab-df-convert {\n",
              "      background-color: #3B4455;\n",
              "      fill: #D2E3FC;\n",
              "    }\n",
              "\n",
              "    [theme=dark] .colab-df-convert:hover {\n",
              "      background-color: #434B5C;\n",
              "      box-shadow: 0px 1px 3px 1px rgba(0, 0, 0, 0.15);\n",
              "      filter: drop-shadow(0px 1px 2px rgba(0, 0, 0, 0.3));\n",
              "      fill: #FFFFFF;\n",
              "    }\n",
              "  </style>\n",
              "\n",
              "      <script>\n",
              "        const buttonEl =\n",
              "          document.querySelector('#df-0bcb03c1-8f0b-4f1d-9532-b3bedda5905e button.colab-df-convert');\n",
              "        buttonEl.style.display =\n",
              "          google.colab.kernel.accessAllowed ? 'block' : 'none';\n",
              "\n",
              "        async function convertToInteractive(key) {\n",
              "          const element = document.querySelector('#df-0bcb03c1-8f0b-4f1d-9532-b3bedda5905e');\n",
              "          const dataTable =\n",
              "            await google.colab.kernel.invokeFunction('convertToInteractive',\n",
              "                                                     [key], {});\n",
              "          if (!dataTable) return;\n",
              "\n",
              "          const docLinkHtml = 'Like what you see? Visit the ' +\n",
              "            '<a target=\"_blank\" href=https://colab.research.google.com/notebooks/data_table.ipynb>data table notebook</a>'\n",
              "            + ' to learn more about interactive tables.';\n",
              "          element.innerHTML = '';\n",
              "          dataTable['output_type'] = 'display_data';\n",
              "          await google.colab.output.renderOutput(dataTable, element);\n",
              "          const docLink = document.createElement('div');\n",
              "          docLink.innerHTML = docLinkHtml;\n",
              "          element.appendChild(docLink);\n",
              "        }\n",
              "      </script>\n",
              "    </div>\n",
              "  </div>\n",
              "  "
            ]
          },
          "metadata": {},
          "execution_count": 51
        }
      ]
    },
    {
      "cell_type": "code",
      "source": [
        "newdf=df.drop(df.index[[0,1,2,3,4,5,6,7,8]])"
      ],
      "metadata": {
        "id": "2ffun2VqsiQu"
      },
      "execution_count": 52,
      "outputs": []
    },
    {
      "cell_type": "code",
      "source": [
        "newdf.columns=['Timestamp','Hourly temp']"
      ],
      "metadata": {
        "id": "eVti-Qu3tQSH"
      },
      "execution_count": 53,
      "outputs": []
    },
    {
      "cell_type": "code",
      "source": [
        "newdf=newdf.reset_index()"
      ],
      "metadata": {
        "id": "p0lfsBxEuVSO"
      },
      "execution_count": 54,
      "outputs": []
    },
    {
      "cell_type": "code",
      "source": [
        "newdf.drop('index',inplace=True,axis=1)"
      ],
      "metadata": {
        "id": "Fr3oNsORtRWM"
      },
      "execution_count": 55,
      "outputs": []
    },
    {
      "cell_type": "code",
      "source": [
        "newdf.head()"
      ],
      "metadata": {
        "colab": {
          "base_uri": "https://localhost:8080/",
          "height": 206
        },
        "id": "_Y3-lng5t8-w",
        "outputId": "8ea9f707-1083-453c-9fe7-d5bf3001d95f"
      },
      "execution_count": 56,
      "outputs": [
        {
          "output_type": "execute_result",
          "data": {
            "text/plain": [
              "       Timestamp Hourly temp\n",
              "0  20220101T0000    49.47895\n",
              "1  20220101T0100   48.542953\n",
              "2  20220101T0200   48.308952\n",
              "3  20220101T0300    48.02095\n",
              "4  20220101T0400   47.732952"
            ],
            "text/html": [
              "\n",
              "  <div id=\"df-616fbce6-1482-4a01-9b8d-c0556d876cb4\">\n",
              "    <div class=\"colab-df-container\">\n",
              "      <div>\n",
              "<style scoped>\n",
              "    .dataframe tbody tr th:only-of-type {\n",
              "        vertical-align: middle;\n",
              "    }\n",
              "\n",
              "    .dataframe tbody tr th {\n",
              "        vertical-align: top;\n",
              "    }\n",
              "\n",
              "    .dataframe thead th {\n",
              "        text-align: right;\n",
              "    }\n",
              "</style>\n",
              "<table border=\"1\" class=\"dataframe\">\n",
              "  <thead>\n",
              "    <tr style=\"text-align: right;\">\n",
              "      <th></th>\n",
              "      <th>Timestamp</th>\n",
              "      <th>Hourly temp</th>\n",
              "    </tr>\n",
              "  </thead>\n",
              "  <tbody>\n",
              "    <tr>\n",
              "      <th>0</th>\n",
              "      <td>20220101T0000</td>\n",
              "      <td>49.47895</td>\n",
              "    </tr>\n",
              "    <tr>\n",
              "      <th>1</th>\n",
              "      <td>20220101T0100</td>\n",
              "      <td>48.542953</td>\n",
              "    </tr>\n",
              "    <tr>\n",
              "      <th>2</th>\n",
              "      <td>20220101T0200</td>\n",
              "      <td>48.308952</td>\n",
              "    </tr>\n",
              "    <tr>\n",
              "      <th>3</th>\n",
              "      <td>20220101T0300</td>\n",
              "      <td>48.02095</td>\n",
              "    </tr>\n",
              "    <tr>\n",
              "      <th>4</th>\n",
              "      <td>20220101T0400</td>\n",
              "      <td>47.732952</td>\n",
              "    </tr>\n",
              "  </tbody>\n",
              "</table>\n",
              "</div>\n",
              "      <button class=\"colab-df-convert\" onclick=\"convertToInteractive('df-616fbce6-1482-4a01-9b8d-c0556d876cb4')\"\n",
              "              title=\"Convert this dataframe to an interactive table.\"\n",
              "              style=\"display:none;\">\n",
              "        \n",
              "  <svg xmlns=\"http://www.w3.org/2000/svg\" height=\"24px\"viewBox=\"0 0 24 24\"\n",
              "       width=\"24px\">\n",
              "    <path d=\"M0 0h24v24H0V0z\" fill=\"none\"/>\n",
              "    <path d=\"M18.56 5.44l.94 2.06.94-2.06 2.06-.94-2.06-.94-.94-2.06-.94 2.06-2.06.94zm-11 1L8.5 8.5l.94-2.06 2.06-.94-2.06-.94L8.5 2.5l-.94 2.06-2.06.94zm10 10l.94 2.06.94-2.06 2.06-.94-2.06-.94-.94-2.06-.94 2.06-2.06.94z\"/><path d=\"M17.41 7.96l-1.37-1.37c-.4-.4-.92-.59-1.43-.59-.52 0-1.04.2-1.43.59L10.3 9.45l-7.72 7.72c-.78.78-.78 2.05 0 2.83L4 21.41c.39.39.9.59 1.41.59.51 0 1.02-.2 1.41-.59l7.78-7.78 2.81-2.81c.8-.78.8-2.07 0-2.86zM5.41 20L4 18.59l7.72-7.72 1.47 1.35L5.41 20z\"/>\n",
              "  </svg>\n",
              "      </button>\n",
              "      \n",
              "  <style>\n",
              "    .colab-df-container {\n",
              "      display:flex;\n",
              "      flex-wrap:wrap;\n",
              "      gap: 12px;\n",
              "    }\n",
              "\n",
              "    .colab-df-convert {\n",
              "      background-color: #E8F0FE;\n",
              "      border: none;\n",
              "      border-radius: 50%;\n",
              "      cursor: pointer;\n",
              "      display: none;\n",
              "      fill: #1967D2;\n",
              "      height: 32px;\n",
              "      padding: 0 0 0 0;\n",
              "      width: 32px;\n",
              "    }\n",
              "\n",
              "    .colab-df-convert:hover {\n",
              "      background-color: #E2EBFA;\n",
              "      box-shadow: 0px 1px 2px rgba(60, 64, 67, 0.3), 0px 1px 3px 1px rgba(60, 64, 67, 0.15);\n",
              "      fill: #174EA6;\n",
              "    }\n",
              "\n",
              "    [theme=dark] .colab-df-convert {\n",
              "      background-color: #3B4455;\n",
              "      fill: #D2E3FC;\n",
              "    }\n",
              "\n",
              "    [theme=dark] .colab-df-convert:hover {\n",
              "      background-color: #434B5C;\n",
              "      box-shadow: 0px 1px 3px 1px rgba(0, 0, 0, 0.15);\n",
              "      filter: drop-shadow(0px 1px 2px rgba(0, 0, 0, 0.3));\n",
              "      fill: #FFFFFF;\n",
              "    }\n",
              "  </style>\n",
              "\n",
              "      <script>\n",
              "        const buttonEl =\n",
              "          document.querySelector('#df-616fbce6-1482-4a01-9b8d-c0556d876cb4 button.colab-df-convert');\n",
              "        buttonEl.style.display =\n",
              "          google.colab.kernel.accessAllowed ? 'block' : 'none';\n",
              "\n",
              "        async function convertToInteractive(key) {\n",
              "          const element = document.querySelector('#df-616fbce6-1482-4a01-9b8d-c0556d876cb4');\n",
              "          const dataTable =\n",
              "            await google.colab.kernel.invokeFunction('convertToInteractive',\n",
              "                                                     [key], {});\n",
              "          if (!dataTable) return;\n",
              "\n",
              "          const docLinkHtml = 'Like what you see? Visit the ' +\n",
              "            '<a target=\"_blank\" href=https://colab.research.google.com/notebooks/data_table.ipynb>data table notebook</a>'\n",
              "            + ' to learn more about interactive tables.';\n",
              "          element.innerHTML = '';\n",
              "          dataTable['output_type'] = 'display_data';\n",
              "          await google.colab.output.renderOutput(dataTable, element);\n",
              "          const docLink = document.createElement('div');\n",
              "          docLink.innerHTML = docLinkHtml;\n",
              "          element.appendChild(docLink);\n",
              "        }\n",
              "      </script>\n",
              "    </div>\n",
              "  </div>\n",
              "  "
            ]
          },
          "metadata": {},
          "execution_count": 56
        }
      ]
    },
    {
      "cell_type": "code",
      "source": [
        "#ADF Test to check id data is stationary or not\n",
        "series=newdf['Hourly temp'].astype(float)\n",
        "from statsmodels.tsa.stattools import adfuller\n",
        "result = adfuller(series)\n",
        "print('ADF Statistic on the entire dataset: {}'.format(result[0]))\n",
        "print('p-value: {}'.format(result[1]))\n",
        "print('Critical Values:')\n",
        "for key, value in result[4].items():\n",
        "    print('\\t{}: {}'.format(key, value))"
      ],
      "metadata": {
        "colab": {
          "base_uri": "https://localhost:8080/"
        },
        "id": "WK-kHXg7uv0i",
        "outputId": "cc9b01a8-fb65-47cd-fa89-e2f1d1a77b44"
      },
      "execution_count": 57,
      "outputs": [
        {
          "output_type": "stream",
          "name": "stdout",
          "text": [
            "ADF Statistic on the entire dataset: -2.5840860510863055\n",
            "p-value: 0.0963311657152725\n",
            "Critical Values:\n",
            "\t1%: -3.4318653292515395\n",
            "\t5%: -2.8622095883960235\n",
            "\t10%: -2.567126426709739\n"
          ]
        }
      ]
    },
    {
      "cell_type": "code",
      "source": [
        "! pip install pmdarima "
      ],
      "metadata": {
        "colab": {
          "base_uri": "https://localhost:8080/"
        },
        "id": "h8lhOqkl4Et4",
        "outputId": "9465c0c5-939b-4baf-b4dd-52bc0424ce4f"
      },
      "execution_count": 58,
      "outputs": [
        {
          "output_type": "stream",
          "name": "stdout",
          "text": [
            "Looking in indexes: https://pypi.org/simple, https://us-python.pkg.dev/colab-wheels/public/simple/\n",
            "Requirement already satisfied: pmdarima in /usr/local/lib/python3.7/dist-packages (1.8.5)\n",
            "Requirement already satisfied: pandas>=0.19 in /usr/local/lib/python3.7/dist-packages (from pmdarima) (1.3.5)\n",
            "Requirement already satisfied: joblib>=0.11 in /usr/local/lib/python3.7/dist-packages (from pmdarima) (1.1.0)\n",
            "Requirement already satisfied: setuptools!=50.0.0,>=38.6.0 in /usr/local/lib/python3.7/dist-packages (from pmdarima) (57.4.0)\n",
            "Requirement already satisfied: scikit-learn>=0.22 in /usr/local/lib/python3.7/dist-packages (from pmdarima) (1.0.2)\n",
            "Requirement already satisfied: numpy>=1.19.3 in /usr/local/lib/python3.7/dist-packages (from pmdarima) (1.21.6)\n",
            "Requirement already satisfied: scipy>=1.3.2 in /usr/local/lib/python3.7/dist-packages (from pmdarima) (1.7.3)\n",
            "Requirement already satisfied: Cython!=0.29.18,>=0.29 in /usr/local/lib/python3.7/dist-packages (from pmdarima) (0.29.30)\n",
            "Requirement already satisfied: urllib3 in /usr/local/lib/python3.7/dist-packages (from pmdarima) (1.24.3)\n",
            "Requirement already satisfied: statsmodels!=0.12.0,>=0.11 in /usr/local/lib/python3.7/dist-packages (from pmdarima) (0.13.2)\n",
            "Requirement already satisfied: pytz>=2017.3 in /usr/local/lib/python3.7/dist-packages (from pandas>=0.19->pmdarima) (2022.1)\n",
            "Requirement already satisfied: python-dateutil>=2.7.3 in /usr/local/lib/python3.7/dist-packages (from pandas>=0.19->pmdarima) (2.8.2)\n",
            "Requirement already satisfied: six>=1.5 in /usr/local/lib/python3.7/dist-packages (from python-dateutil>=2.7.3->pandas>=0.19->pmdarima) (1.15.0)\n",
            "Requirement already satisfied: threadpoolctl>=2.0.0 in /usr/local/lib/python3.7/dist-packages (from scikit-learn>=0.22->pmdarima) (3.1.0)\n",
            "Requirement already satisfied: patsy>=0.5.2 in /usr/local/lib/python3.7/dist-packages (from statsmodels!=0.12.0,>=0.11->pmdarima) (0.5.2)\n",
            "Requirement already satisfied: packaging>=21.3 in /usr/local/lib/python3.7/dist-packages (from statsmodels!=0.12.0,>=0.11->pmdarima) (21.3)\n",
            "Requirement already satisfied: pyparsing!=3.0.5,>=2.0.2 in /usr/local/lib/python3.7/dist-packages (from packaging>=21.3->statsmodels!=0.12.0,>=0.11->pmdarima) (3.0.9)\n"
          ]
        }
      ]
    },
    {
      "cell_type": "code",
      "source": [
        "from pmdarima import auto_arima\n",
        "stepwise_fit = auto_arima(newdf['Hourly temp'], trace=True,suppress_warnings=True)"
      ],
      "metadata": {
        "colab": {
          "base_uri": "https://localhost:8080/"
        },
        "id": "83A-ieE24LCB",
        "outputId": "4ac12a1b-d22f-4c56-f256-6d026a235724"
      },
      "execution_count": 59,
      "outputs": [
        {
          "output_type": "stream",
          "name": "stdout",
          "text": [
            "Performing stepwise search to minimize aic\n",
            " ARIMA(2,1,2)(0,0,0)[0] intercept   : AIC=14576.837, Time=15.26 sec\n",
            " ARIMA(0,1,0)(0,0,0)[0] intercept   : AIC=18391.649, Time=0.17 sec\n",
            " ARIMA(1,1,0)(0,0,0)[0] intercept   : AIC=15140.290, Time=0.68 sec\n",
            " ARIMA(0,1,1)(0,0,0)[0] intercept   : AIC=16243.562, Time=1.43 sec\n",
            " ARIMA(0,1,0)(0,0,0)[0]             : AIC=18389.654, Time=0.24 sec\n",
            " ARIMA(1,1,2)(0,0,0)[0] intercept   : AIC=15130.612, Time=2.95 sec\n",
            " ARIMA(2,1,1)(0,0,0)[0] intercept   : AIC=14655.967, Time=10.98 sec\n",
            " ARIMA(3,1,2)(0,0,0)[0] intercept   : AIC=15035.827, Time=7.54 sec\n",
            " ARIMA(2,1,3)(0,0,0)[0] intercept   : AIC=14311.197, Time=12.03 sec\n",
            " ARIMA(1,1,3)(0,0,0)[0] intercept   : AIC=15118.415, Time=1.98 sec\n",
            " ARIMA(3,1,3)(0,0,0)[0] intercept   : AIC=15086.023, Time=4.55 sec\n",
            " ARIMA(2,1,4)(0,0,0)[0] intercept   : AIC=14177.189, Time=12.78 sec\n",
            " ARIMA(1,1,4)(0,0,0)[0] intercept   : AIC=15097.632, Time=3.85 sec\n",
            " ARIMA(3,1,4)(0,0,0)[0] intercept   : AIC=14242.201, Time=14.27 sec\n",
            " ARIMA(2,1,5)(0,0,0)[0] intercept   : AIC=15097.653, Time=9.70 sec\n",
            " ARIMA(1,1,5)(0,0,0)[0] intercept   : AIC=15096.193, Time=5.20 sec\n",
            " ARIMA(3,1,5)(0,0,0)[0] intercept   : AIC=inf, Time=18.58 sec\n",
            " ARIMA(2,1,4)(0,0,0)[0]             : AIC=14138.478, Time=5.98 sec\n",
            " ARIMA(1,1,4)(0,0,0)[0]             : AIC=15095.632, Time=1.63 sec\n",
            " ARIMA(2,1,3)(0,0,0)[0]             : AIC=14246.884, Time=4.84 sec\n",
            " ARIMA(3,1,4)(0,0,0)[0]             : AIC=14238.271, Time=6.78 sec\n",
            " ARIMA(2,1,5)(0,0,0)[0]             : AIC=15095.653, Time=4.07 sec\n",
            " ARIMA(1,1,3)(0,0,0)[0]             : AIC=15116.415, Time=0.99 sec\n",
            " ARIMA(1,1,5)(0,0,0)[0]             : AIC=15094.193, Time=2.17 sec\n",
            " ARIMA(3,1,3)(0,0,0)[0]             : AIC=14570.687, Time=5.69 sec\n",
            " ARIMA(3,1,5)(0,0,0)[0]             : AIC=inf, Time=11.52 sec\n",
            "\n",
            "Best model:  ARIMA(2,1,4)(0,0,0)[0]          \n",
            "Total fit time: 165.923 seconds\n"
          ]
        }
      ]
    },
    {
      "cell_type": "code",
      "source": [
        "newdf.info()"
      ],
      "metadata": {
        "colab": {
          "base_uri": "https://localhost:8080/"
        },
        "id": "hCDqjmDG8f6N",
        "outputId": "750ff4f7-51d4-415f-ba73-84a01c54df03"
      },
      "execution_count": 60,
      "outputs": [
        {
          "output_type": "stream",
          "name": "stdout",
          "text": [
            "<class 'pandas.core.frame.DataFrame'>\n",
            "RangeIndex: 4344 entries, 0 to 4343\n",
            "Data columns (total 2 columns):\n",
            " #   Column       Non-Null Count  Dtype \n",
            "---  ------       --------------  ----- \n",
            " 0   Timestamp    4344 non-null   object\n",
            " 1   Hourly temp  4344 non-null   object\n",
            "dtypes: object(2)\n",
            "memory usage: 68.0+ KB\n"
          ]
        }
      ]
    },
    {
      "cell_type": "code",
      "source": [
        "#train test split\n",
        "print(newdf.shape)\n",
        "train=newdf.iloc[0:1448]\n",
        "test=newdf.iloc[1448:2896]\n",
        "print(train.shape,test.shape)"
      ],
      "metadata": {
        "colab": {
          "base_uri": "https://localhost:8080/"
        },
        "id": "iT6T7TPY81bG",
        "outputId": "20d1d21b-4bfc-439d-9826-04866af1dbee"
      },
      "execution_count": 61,
      "outputs": [
        {
          "output_type": "stream",
          "name": "stdout",
          "text": [
            "(4344, 2)\n",
            "(1448, 2) (1448, 2)\n"
          ]
        }
      ]
    },
    {
      "cell_type": "code",
      "source": [
        "#fitting data to model\n",
        "from statsmodels.tsa.arima.model import ARIMA\n",
        "model=ARIMA(train['Hourly temp'],order=(1,0,5))\n",
        "model=model.fit()\n",
        "model.summary()"
      ],
      "metadata": {
        "colab": {
          "base_uri": "https://localhost:8080/",
          "height": 537
        },
        "id": "rADY47HL92Wb",
        "outputId": "458dc4a6-2286-4f2f-cd26-0e170d3648ce"
      },
      "execution_count": 67,
      "outputs": [
        {
          "output_type": "execute_result",
          "data": {
            "text/plain": [
              "<class 'statsmodels.iolib.summary.Summary'>\n",
              "\"\"\"\n",
              "                               SARIMAX Results                                \n",
              "==============================================================================\n",
              "Dep. Variable:            Hourly temp   No. Observations:                 1448\n",
              "Model:                 ARIMA(1, 0, 5)   Log Likelihood               -2314.573\n",
              "Date:                Thu, 28 Jul 2022   AIC                           4645.147\n",
              "Time:                        15:37:47   BIC                           4687.370\n",
              "Sample:                             0   HQIC                          4660.904\n",
              "                               - 1448                                         \n",
              "Covariance Type:                  opg                                         \n",
              "==============================================================================\n",
              "                 coef    std err          z      P>|z|      [0.025      0.975]\n",
              "------------------------------------------------------------------------------\n",
              "const         40.6322      0.853     47.638      0.000      38.960      42.304\n",
              "ar.L1          0.8890      0.016     54.935      0.000       0.857       0.921\n",
              "ma.L1          0.6648      0.018     37.350      0.000       0.630       0.700\n",
              "ma.L2          0.4655      0.030     15.401      0.000       0.406       0.525\n",
              "ma.L3          0.3712      0.029     12.725      0.000       0.314       0.428\n",
              "ma.L4          0.3006      0.032      9.493      0.000       0.239       0.363\n",
              "ma.L5          0.1309      0.030      4.299      0.000       0.071       0.191\n",
              "sigma2         1.4279      0.029     48.690      0.000       1.370       1.485\n",
              "===================================================================================\n",
              "Ljung-Box (L1) (Q):                   0.11   Jarque-Bera (JB):              1944.12\n",
              "Prob(Q):                              0.74   Prob(JB):                         0.00\n",
              "Heteroskedasticity (H):               0.99   Skew:                             0.37\n",
              "Prob(H) (two-sided):                  0.91   Kurtosis:                         8.63\n",
              "===================================================================================\n",
              "\n",
              "Warnings:\n",
              "[1] Covariance matrix calculated using the outer product of gradients (complex-step).\n",
              "\"\"\""
            ],
            "text/html": [
              "<table class=\"simpletable\">\n",
              "<caption>SARIMAX Results</caption>\n",
              "<tr>\n",
              "  <th>Dep. Variable:</th>      <td>Hourly temp</td>   <th>  No. Observations:  </th>   <td>1448</td>   \n",
              "</tr>\n",
              "<tr>\n",
              "  <th>Model:</th>            <td>ARIMA(1, 0, 5)</td>  <th>  Log Likelihood     </th> <td>-2314.573</td>\n",
              "</tr>\n",
              "<tr>\n",
              "  <th>Date:</th>            <td>Thu, 28 Jul 2022</td> <th>  AIC                </th> <td>4645.147</td> \n",
              "</tr>\n",
              "<tr>\n",
              "  <th>Time:</th>                <td>15:37:47</td>     <th>  BIC                </th> <td>4687.370</td> \n",
              "</tr>\n",
              "<tr>\n",
              "  <th>Sample:</th>                  <td>0</td>        <th>  HQIC               </th> <td>4660.904</td> \n",
              "</tr>\n",
              "<tr>\n",
              "  <th></th>                      <td> - 1448</td>     <th>                     </th>     <td> </td>    \n",
              "</tr>\n",
              "<tr>\n",
              "  <th>Covariance Type:</th>        <td>opg</td>       <th>                     </th>     <td> </td>    \n",
              "</tr>\n",
              "</table>\n",
              "<table class=\"simpletable\">\n",
              "<tr>\n",
              "     <td></td>       <th>coef</th>     <th>std err</th>      <th>z</th>      <th>P>|z|</th>  <th>[0.025</th>    <th>0.975]</th>  \n",
              "</tr>\n",
              "<tr>\n",
              "  <th>const</th>  <td>   40.6322</td> <td>    0.853</td> <td>   47.638</td> <td> 0.000</td> <td>   38.960</td> <td>   42.304</td>\n",
              "</tr>\n",
              "<tr>\n",
              "  <th>ar.L1</th>  <td>    0.8890</td> <td>    0.016</td> <td>   54.935</td> <td> 0.000</td> <td>    0.857</td> <td>    0.921</td>\n",
              "</tr>\n",
              "<tr>\n",
              "  <th>ma.L1</th>  <td>    0.6648</td> <td>    0.018</td> <td>   37.350</td> <td> 0.000</td> <td>    0.630</td> <td>    0.700</td>\n",
              "</tr>\n",
              "<tr>\n",
              "  <th>ma.L2</th>  <td>    0.4655</td> <td>    0.030</td> <td>   15.401</td> <td> 0.000</td> <td>    0.406</td> <td>    0.525</td>\n",
              "</tr>\n",
              "<tr>\n",
              "  <th>ma.L3</th>  <td>    0.3712</td> <td>    0.029</td> <td>   12.725</td> <td> 0.000</td> <td>    0.314</td> <td>    0.428</td>\n",
              "</tr>\n",
              "<tr>\n",
              "  <th>ma.L4</th>  <td>    0.3006</td> <td>    0.032</td> <td>    9.493</td> <td> 0.000</td> <td>    0.239</td> <td>    0.363</td>\n",
              "</tr>\n",
              "<tr>\n",
              "  <th>ma.L5</th>  <td>    0.1309</td> <td>    0.030</td> <td>    4.299</td> <td> 0.000</td> <td>    0.071</td> <td>    0.191</td>\n",
              "</tr>\n",
              "<tr>\n",
              "  <th>sigma2</th> <td>    1.4279</td> <td>    0.029</td> <td>   48.690</td> <td> 0.000</td> <td>    1.370</td> <td>    1.485</td>\n",
              "</tr>\n",
              "</table>\n",
              "<table class=\"simpletable\">\n",
              "<tr>\n",
              "  <th>Ljung-Box (L1) (Q):</th>     <td>0.11</td> <th>  Jarque-Bera (JB):  </th> <td>1944.12</td>\n",
              "</tr>\n",
              "<tr>\n",
              "  <th>Prob(Q):</th>                <td>0.74</td> <th>  Prob(JB):          </th>  <td>0.00</td>  \n",
              "</tr>\n",
              "<tr>\n",
              "  <th>Heteroskedasticity (H):</th> <td>0.99</td> <th>  Skew:              </th>  <td>0.37</td>  \n",
              "</tr>\n",
              "<tr>\n",
              "  <th>Prob(H) (two-sided):</th>    <td>0.91</td> <th>  Kurtosis:          </th>  <td>8.63</td>  \n",
              "</tr>\n",
              "</table><br/><br/>Warnings:<br/>[1] Covariance matrix calculated using the outer product of gradients (complex-step)."
            ]
          },
          "metadata": {},
          "execution_count": 67
        }
      ]
    },
    {
      "cell_type": "code",
      "source": [
        "train.info()"
      ],
      "metadata": {
        "colab": {
          "base_uri": "https://localhost:8080/"
        },
        "id": "Zk-ycJRL_IvS",
        "outputId": "da42fe5a-c5fb-4a20-bedf-646b675be674"
      },
      "execution_count": 23,
      "outputs": [
        {
          "output_type": "stream",
          "name": "stdout",
          "text": [
            "<class 'pandas.core.frame.DataFrame'>\n",
            "RangeIndex: 120 entries, 0 to 119\n",
            "Data columns (total 2 columns):\n",
            " #   Column       Non-Null Count  Dtype \n",
            "---  ------       --------------  ----- \n",
            " 0   Timestamp    120 non-null    object\n",
            " 1   Hourly temp  120 non-null    object\n",
            "dtypes: object(2)\n",
            "memory usage: 2.0+ KB\n"
          ]
        }
      ]
    },
    {
      "cell_type": "code",
      "source": [
        "#conerting timestamp and temp data to datetime and float type\n",
        "train['Timestamp']= pd.to_datetime(train['Timestamp'])"
      ],
      "metadata": {
        "colab": {
          "base_uri": "https://localhost:8080/"
        },
        "id": "wvLSNFQ2__9i",
        "outputId": "82a3fee0-cd78-4e2c-98ae-54297cb4692b"
      },
      "execution_count": 63,
      "outputs": [
        {
          "output_type": "stream",
          "name": "stderr",
          "text": [
            "/usr/local/lib/python3.7/dist-packages/ipykernel_launcher.py:1: SettingWithCopyWarning: \n",
            "A value is trying to be set on a copy of a slice from a DataFrame.\n",
            "Try using .loc[row_indexer,col_indexer] = value instead\n",
            "\n",
            "See the caveats in the documentation: https://pandas.pydata.org/pandas-docs/stable/user_guide/indexing.html#returning-a-view-versus-a-copy\n",
            "  \"\"\"Entry point for launching an IPython kernel.\n"
          ]
        }
      ]
    },
    {
      "cell_type": "code",
      "source": [
        "test['Timestamp']= pd.to_datetime(test['Timestamp'])"
      ],
      "metadata": {
        "colab": {
          "base_uri": "https://localhost:8080/"
        },
        "id": "EebQYgeqJdPf",
        "outputId": "aef0b03e-b0d1-4fa8-f0ec-f3557110cdac"
      },
      "execution_count": 64,
      "outputs": [
        {
          "output_type": "stream",
          "name": "stderr",
          "text": [
            "/usr/local/lib/python3.7/dist-packages/ipykernel_launcher.py:1: SettingWithCopyWarning: \n",
            "A value is trying to be set on a copy of a slice from a DataFrame.\n",
            "Try using .loc[row_indexer,col_indexer] = value instead\n",
            "\n",
            "See the caveats in the documentation: https://pandas.pydata.org/pandas-docs/stable/user_guide/indexing.html#returning-a-view-versus-a-copy\n",
            "  \"\"\"Entry point for launching an IPython kernel.\n"
          ]
        }
      ]
    },
    {
      "cell_type": "code",
      "source": [
        "train['Hourly temp']=train['Hourly temp'].astype(float)"
      ],
      "metadata": {
        "colab": {
          "base_uri": "https://localhost:8080/"
        },
        "id": "DdX-H_a7AY9K",
        "outputId": "6bf08639-e7d2-4cc5-db92-b85468928548"
      },
      "execution_count": 65,
      "outputs": [
        {
          "output_type": "stream",
          "name": "stderr",
          "text": [
            "/usr/local/lib/python3.7/dist-packages/ipykernel_launcher.py:1: SettingWithCopyWarning: \n",
            "A value is trying to be set on a copy of a slice from a DataFrame.\n",
            "Try using .loc[row_indexer,col_indexer] = value instead\n",
            "\n",
            "See the caveats in the documentation: https://pandas.pydata.org/pandas-docs/stable/user_guide/indexing.html#returning-a-view-versus-a-copy\n",
            "  \"\"\"Entry point for launching an IPython kernel.\n"
          ]
        }
      ]
    },
    {
      "cell_type": "code",
      "source": [
        "test['Hourly temp']=test['Hourly temp'].astype(float)"
      ],
      "metadata": {
        "colab": {
          "base_uri": "https://localhost:8080/"
        },
        "id": "DVlLW9CmJeR-",
        "outputId": "f8c7cc15-7c40-49f6-cb38-2b32bc726f96"
      },
      "execution_count": 66,
      "outputs": [
        {
          "output_type": "stream",
          "name": "stderr",
          "text": [
            "/usr/local/lib/python3.7/dist-packages/ipykernel_launcher.py:1: SettingWithCopyWarning: \n",
            "A value is trying to be set on a copy of a slice from a DataFrame.\n",
            "Try using .loc[row_indexer,col_indexer] = value instead\n",
            "\n",
            "See the caveats in the documentation: https://pandas.pydata.org/pandas-docs/stable/user_guide/indexing.html#returning-a-view-versus-a-copy\n",
            "  \"\"\"Entry point for launching an IPython kernel.\n"
          ]
        }
      ]
    },
    {
      "cell_type": "code",
      "source": [
        "train.info()"
      ],
      "metadata": {
        "colab": {
          "base_uri": "https://localhost:8080/"
        },
        "id": "FSrPL2wWAeIG",
        "outputId": "4c935573-b3c7-4de9-90f5-3b7e6ca98f0e"
      },
      "execution_count": 30,
      "outputs": [
        {
          "output_type": "stream",
          "name": "stdout",
          "text": [
            "<class 'pandas.core.frame.DataFrame'>\n",
            "RangeIndex: 120 entries, 0 to 119\n",
            "Data columns (total 2 columns):\n",
            " #   Column       Non-Null Count  Dtype         \n",
            "---  ------       --------------  -----         \n",
            " 0   Timestamp    120 non-null    datetime64[ns]\n",
            " 1   Hourly temp  120 non-null    float64       \n",
            "dtypes: datetime64[ns](1), float64(1)\n",
            "memory usage: 2.0 KB\n"
          ]
        }
      ]
    },
    {
      "cell_type": "code",
      "source": [
        "print(train.shape[0])\n",
        "print(test.shape[0])"
      ],
      "metadata": {
        "colab": {
          "base_uri": "https://localhost:8080/"
        },
        "id": "NNe2ONGqZcPm",
        "outputId": "6eced5c5-457a-4fee-b068-5bd2e8ccd348"
      },
      "execution_count": 83,
      "outputs": [
        {
          "output_type": "stream",
          "name": "stdout",
          "text": [
            "1448\n",
            "1448\n"
          ]
        }
      ]
    },
    {
      "cell_type": "code",
      "source": [
        "#plotting prediction\n",
        "import matplotlib.pyplot as plt\n",
        "from datetime import datetime\n",
        "start=len(test)\n",
        "end=len(test)+len(train)-1\n",
        "pred=model.predict(start=start, end=end)\n",
        "pred.plot(legend=True)"
      ],
      "metadata": {
        "colab": {
          "base_uri": "https://localhost:8080/",
          "height": 282
        },
        "id": "N2s7Rv1xAyB-",
        "outputId": "fca194be-5fd1-4706-8278-e0c13530d908"
      },
      "execution_count": 107,
      "outputs": [
        {
          "output_type": "execute_result",
          "data": {
            "text/plain": [
              "<matplotlib.axes._subplots.AxesSubplot at 0x7f512e5fab90>"
            ]
          },
          "metadata": {},
          "execution_count": 107
        },
        {
          "output_type": "display_data",
          "data": {
            "text/plain": [
              "<Figure size 432x288 with 1 Axes>"
            ],
            "image/png": "[encoded data removed]"
          },
          "metadata": {
            "needs_background": "light"
          }
        }
      ]
    },
    {
      "cell_type": "code",
      "source": [
        "from sklearn.metrics import mean_squared_error\n",
        "from math import sqrt\n",
        "print(\"Mean of test set\",test['Hourly temp'].mean())\n",
        "rmse=sqrt(mean_squared_error(pred,test['Hourly temp']))\n",
        "print(\"RMSE:\",rmse)"
      ],
      "metadata": {
        "colab": {
          "base_uri": "https://localhost:8080/"
        },
        "id": "xndgVIVvLZev",
        "outputId": "807966c7-4704-4db4-8499-962be3b44906"
      },
      "execution_count": 87,
      "outputs": [
        {
          "output_type": "stream",
          "name": "stdout",
          "text": [
            "Mean of test set 50.488107225828735\n",
            "RMSE: 13.905082227272064\n"
          ]
        }
      ]
    },
    {
      "cell_type": "code",
      "source": [
        "# newdf['Hourly temp']=newdf['Hourly temp'].astype(float)\n",
        "# df_log=np.sqrt(newdf['Hourly temp'])\n",
        "# df_diff=df_log.diff().dropna()\n",
        "# series=newdf['Hourly temp'].astype(float)\n",
        "# from statsmodels.tsa.stattools import adfuller\n",
        "# result = adfuller(df_log)\n",
        "# print('ADF Statistic on the entire dataset: {}'.format(result[0]))\n",
        "# print('p-value: {}'.format(result[1]))\n",
        "# print('Critical Values:')\n",
        "# for key, value in result[4].items():\n",
        "#     print('\\t{}: {}'.format(key, value))"
      ],
      "metadata": {
        "colab": {
          "base_uri": "https://localhost:8080/"
        },
        "id": "DKWOFPSaT66f",
        "outputId": "3d79ff54-e8d9-4d64-a168-0e81f92c55be"
      },
      "execution_count": 93,
      "outputs": [
        {
          "output_type": "stream",
          "name": "stdout",
          "text": [
            "ADF Statistic on the entire dataset: -2.6151237586238243\n",
            "p-value: 0.08991160664418169\n",
            "Critical Values:\n",
            "\t1%: -3.4318653292515395\n",
            "\t5%: -2.8622095883960235\n",
            "\t10%: -2.567126426709739\n"
          ]
        }
      ]
    },
    {
      "cell_type": "code",
      "source": [
        "# from datetime import datetime\n",
        "# start_index = datetime(2022, 1 ,1)\n",
        "# end_index = datetime(2022, 6, 30)\n"
      ],
      "metadata": {
        "id": "_TuZOq6Cb3Yz"
      },
      "execution_count": 97,
      "outputs": []
    },
    {
      "cell_type": "code",
      "source": [
        "# train=train.set_index(train['Timestamp'])\n",
        "# test=test.set_index(test['Timestamp'])"
      ],
      "metadata": {
        "id": "_vEqpavTeANs"
      },
      "execution_count": 102,
      "outputs": []
    },
    {
      "cell_type": "code",
      "source": [
        ""
      ],
      "metadata": {
        "id": "i9jj5jgjhZoY"
      },
      "execution_count": null,
      "outputs": []
    },
    {
      "cell_type": "code",
      "source": [
        ""
      ],
      "metadata": {
        "id": "7WV5kajtfALZ"
      },
      "execution_count": null,
      "outputs": []
    }
  ]
}